{
 "cells": [
  {
   "cell_type": "code",
   "execution_count": null,
   "id": "4f400eb1",
   "metadata": {},
   "outputs": [],
   "source": [
    "import numpy as np\n",
    "import random\n",
    "import matplotlib.pyplot as plt\n",
    "from tensorflow.keras.models import Sequential\n",
    "from tensorflow.keras.layers import Conv2D, MaxPooling2D, Dense, Flatten"
   ]
  },
  {
   "cell_type": "code",
   "execution_count": null,
   "id": "75d88004",
   "metadata": {},
   "outputs": [],
   "source": [
    "X_train = np.loadtxt(\"C:/Users/DELL/Desktop/DL/DL/PR 3 DL/input.csv\", delimiter = ',')\n",
    "Y_train = np.loadtxt('C:/Users/DELL/Desktop/DL/DL/PR 3 DL/labels.csv', delimiter = ',')   \n",
    "X_test =  np.loadtxt('C:/Users/DELL/Desktop/DL/DL/PR 3 DL/input_test.csv', delimiter = ',')\n",
    "Y_test =  np.loadtxt('C:/Users/DELL/Desktop/DL/DL/PR 3 DL/labels_test.csv', delimiter = ',')\n",
    "\n",
    "X_train = X_train.reshape(len(X_train), 100, 100, 3)\n",
    "Y_train = Y_train.reshape(len(Y_train), 1)\n",
    "\n",
    "X_test =  X_test.reshape(len(X_test), 100, 100, 3)\n",
    "Y_test =  Y_test.reshape(len(Y_test), 1)\n",
    "\n",
    "X_train,X_test =X_train/255,X_test/255 "
   ]
  },
  {
   "cell_type": "code",
   "execution_count": null,
   "id": "f4a12cd8",
   "metadata": {},
   "outputs": [],
   "source": [
    "model = Sequential()\n",
    "\n",
    "model.add(Conv2D(32, (3,3), activation = 'relu', input_shape = (100, 100, 3)))\n",
    "model.add(MaxPooling2D((2,2)))\n",
    "\n",
    "model.add(Conv2D(32, (3,3), activation = 'relu'))\n",
    "model.add(MaxPooling2D((2,2)))\n",
    "\n",
    "model.add(Flatten())\n",
    "model.add(Dense(64, activation = 'relu'))\n",
    "model.add(Dense(1, activation = 'sigmoid'))\n",
    "\n",
    "model.compile(loss = 'binary_crossentropy', optimizer = 'adam', metrics = ['accuracy'])\n",
    "model.fit(X_train, Y_train, epochs = 5, batch_size = 64)\n",
    "model.evaluate(X_test, Y_test)"
   ]
  },
  {
   "cell_type": "code",
   "execution_count": null,
   "id": "30644109",
   "metadata": {},
   "outputs": [],
   "source": [
    "\n",
    "idx2 = random.randint(0, len(Y_test))\n",
    "plt.imshow(X_test[idx2, :])\n",
    "plt.show()\n",
    "\n",
    "y_pred = model.predict(X_test[idx2, :].reshape(1, 100, 100, 3))\n",
    "y_pred = y_pred > 0.5\n",
    "\n",
    "if(y_pred == 0):\n",
    "    pred = 'dog'\n",
    "else:\n",
    "    pred = 'cat'\n",
    "print(\"Our model says it is a :\", pred)"
   ]
  }
 ],
 "metadata": {
  "kernelspec": {
   "display_name": "Python 3 (ipykernel)",
   "language": "python",
   "name": "python3"
  },
  "language_info": {
   "codemirror_mode": {
    "name": "ipython",
    "version": 3
   },
   "file_extension": ".py",
   "mimetype": "text/x-python",
   "name": "python",
   "nbconvert_exporter": "python",
   "pygments_lexer": "ipython3",
   "version": "3.11.4"
  }
 },
 "nbformat": 4,
 "nbformat_minor": 5
}
