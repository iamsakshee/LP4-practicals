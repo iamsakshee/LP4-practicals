{
 "cells": [
  {
   "cell_type": "markdown",
   "id": "7e328feb",
   "metadata": {},
   "source": [
    "# one_hot_enocding"
   ]
  },
  {
   "cell_type": "code",
   "execution_count": 1,
   "id": "fc172842",
   "metadata": {},
   "outputs": [
    {
     "name": "stdout",
     "output_type": "stream",
     "text": [
      "The original data\n",
      "\n",
      "    col1\n",
      "0    red\n",
      "1    Sun\n",
      "2   Moon\n",
      "3  Earth\n",
      "4   Moon\n",
      "5  Venus\n",
      "___________________________________________________________________\n",
      "\n",
      "The transform data using get_dummies \n",
      "\n",
      "    Planet_Earth  Planet_Moon  Planet_Sun  Planet_Venus  Planet_red\n",
      "0             0            0           0             0           1\n",
      "1             0            0           1             0           0\n",
      "2             0            1           0             0           0\n",
      "3             1            0           0             0           0\n",
      "4             0            1           0             0           0\n",
      "5             0            0           0             1           0\n"
     ]
    }
   ],
   "source": [
    "import pandas as pd \n",
    "df = pd.DataFrame({\"col1\": [\"red\", \"Sun\", \"Moon\", \"Earth\", \"Moon\", \"Venus\"]})\n",
    "print(\"The original data\\n\")\n",
    "print(df)\n",
    "print(\"___________________________________________________________________\\n\")\n",
    "df_new = pd.get_dummies(df, columns=[\"col1\"], prefix=\"Planet\")\n",
    "print(f\"The transform data using get_dummies \\n\\n {df_new}\")"
   ]
  },
  {
   "cell_type": "markdown",
   "id": "741ae558",
   "metadata": {},
   "source": [
    "# Word To Vector"
   ]
  },
  {
   "cell_type": "code",
   "execution_count": 2,
   "id": "a68b01b9",
   "metadata": {},
   "outputs": [],
   "source": [
    "from gensim.models import Word2Vec\n",
    "import nltk\n",
    "from nltk.corpus import brown"
   ]
  },
  {
   "cell_type": "code",
   "execution_count": 3,
   "id": "cee91678",
   "metadata": {},
   "outputs": [
    {
     "name": "stderr",
     "output_type": "stream",
     "text": [
      "[nltk_data] Downloading package brown to\n",
      "[nltk_data]     C:\\Users\\saksh\\AppData\\Roaming\\nltk_data...\n",
      "[nltk_data]   Package brown is already up-to-date!\n"
     ]
    }
   ],
   "source": [
    "nltk.download('brown') \n",
    "data = brown.sents()  # Use the Brown corpus from NLTK as sample data"
   ]
  },
  {
   "cell_type": "code",
   "execution_count": 4,
   "id": "9e9500db",
   "metadata": {},
   "outputs": [
    {
     "name": "stdout",
     "output_type": "stream",
     "text": [
      "[['The', 'Fulton', 'County', 'Grand', 'Jury', 'said', 'Friday', 'an', 'investigation', 'of', \"Atlanta's\", 'recent', 'primary', 'election', 'produced', '``', 'no', 'evidence', \"''\", 'that', 'any', 'irregularities', 'took', 'place', '.'], ['The', 'jury', 'further', 'said', 'in', 'term-end', 'presentments', 'that', 'the', 'City', 'Executive', 'Committee', ',', 'which', 'had', 'over-all', 'charge', 'of', 'the', 'election', ',', '``', 'deserves', 'the', 'praise', 'and', 'thanks', 'of', 'the', 'City', 'of', 'Atlanta', \"''\", 'for', 'the', 'manner', 'in', 'which', 'the', 'election', 'was', 'conducted', '.'], ...]\n",
      "Similarity between 'woman' and 'man': 0.8805357217788696\n"
     ]
    }
   ],
   "source": [
    "model = Word2Vec(data, min_count=1,  window=5)   # CBOW model using the gensim library's Word2Vec\n",
    "model.train(data, total_examples=len(data), epochs=5) # Model is trained on the data with a specified number of epochs\n",
    "print(data)\n",
    "word_vectors = model.wv  \n",
    "similarity = word_vectors.similarity('woman', 'man')\n",
    "print(f\"Similarity between 'woman' and 'man': {similarity}\") "
   ]
  },
  {
   "cell_type": "markdown",
   "id": "c00bc5f1",
   "metadata": {},
   "source": [
    "# NLP"
   ]
  },
  {
   "cell_type": "code",
   "execution_count": null,
   "id": "6da71fd0",
   "metadata": {},
   "outputs": [],
   "source": [
    "import tensorflow as tf\n",
    "from tensorflow.keras.models import Sequential\n",
    "from tensorflow.keras.layers import Embedding, LSTM, Dense\n",
    "from tensorflow.keras.preprocessing.text import Tokenizer\n",
    "from tensorflow.keras.preprocessing.sequence import pad_sequences\n",
    "import numpy as np\n",
    "import regex as re"
   ]
  },
  {
   "cell_type": "code",
   "execution_count": 6,
   "id": "aa65c7e9",
   "metadata": {},
   "outputs": [
    {
     "ename": "FileNotFoundError",
     "evalue": "[Errno 2] No such file or directory: 'C:\\\\Users\\\\DELL\\\\Desktop\\\\DL\\\\DL\\\\PR 5 DL\\\\Word_Predication\\\\pizza.txt'",
     "output_type": "error",
     "traceback": [
      "\u001b[1;31m---------------------------------------------------------------------------\u001b[0m",
      "\u001b[1;31mFileNotFoundError\u001b[0m                         Traceback (most recent call last)",
      "Input \u001b[1;32mIn [6]\u001b[0m, in \u001b[0;36m<cell line: 8>\u001b[1;34m()\u001b[0m\n\u001b[0;32m      5\u001b[0m \t\u001b[38;5;28;01mreturn\u001b[39;00m sentences\n\u001b[0;32m      7\u001b[0m file_path \u001b[38;5;241m=\u001b[39m \u001b[38;5;124mr\u001b[39m\u001b[38;5;124m'\u001b[39m\u001b[38;5;124mC:\u001b[39m\u001b[38;5;124m\\\u001b[39m\u001b[38;5;124mUsers\u001b[39m\u001b[38;5;124m\\\u001b[39m\u001b[38;5;124mDELL\u001b[39m\u001b[38;5;124m\\\u001b[39m\u001b[38;5;124mDesktop\u001b[39m\u001b[38;5;124m\\\u001b[39m\u001b[38;5;124mDL\u001b[39m\u001b[38;5;124m\\\u001b[39m\u001b[38;5;124mDL\u001b[39m\u001b[38;5;124m\\\u001b[39m\u001b[38;5;124mPR 5 DL\u001b[39m\u001b[38;5;124m\\\u001b[39m\u001b[38;5;124mWord_Predication\u001b[39m\u001b[38;5;124m\\\u001b[39m\u001b[38;5;124mpizza.txt\u001b[39m\u001b[38;5;124m'\u001b[39m\n\u001b[1;32m----> 8\u001b[0m text_data \u001b[38;5;241m=\u001b[39m \u001b[43mfile_to_sentence_list\u001b[49m\u001b[43m(\u001b[49m\u001b[43mfile_path\u001b[49m\u001b[43m)\u001b[49m\n\u001b[0;32m     10\u001b[0m \u001b[38;5;66;03m# Tokenize the text data\u001b[39;00m\n\u001b[0;32m     11\u001b[0m tokenizer \u001b[38;5;241m=\u001b[39m Tokenizer()\n",
      "Input \u001b[1;32mIn [6]\u001b[0m, in \u001b[0;36mfile_to_sentence_list\u001b[1;34m(file_path)\u001b[0m\n\u001b[0;32m      1\u001b[0m \u001b[38;5;28;01mdef\u001b[39;00m \u001b[38;5;21mfile_to_sentence_list\u001b[39m(file_path):\n\u001b[1;32m----> 2\u001b[0m \t\u001b[38;5;28;01mwith\u001b[39;00m \u001b[38;5;28;43mopen\u001b[39;49m\u001b[43m(\u001b[49m\u001b[43mfile_path\u001b[49m\u001b[43m,\u001b[49m\u001b[43m \u001b[49m\u001b[38;5;124;43m'\u001b[39;49m\u001b[38;5;124;43mr\u001b[39;49m\u001b[38;5;124;43m'\u001b[39;49m\u001b[43m)\u001b[49m \u001b[38;5;28;01mas\u001b[39;00m file:\n\u001b[0;32m      3\u001b[0m \t\ttext \u001b[38;5;241m=\u001b[39m file\u001b[38;5;241m.\u001b[39mread()\n\u001b[0;32m      4\u001b[0m \tsentences \u001b[38;5;241m=\u001b[39m [sentence\u001b[38;5;241m.\u001b[39mstrip() \u001b[38;5;28;01mfor\u001b[39;00m sentence \u001b[38;5;129;01min\u001b[39;00m re\u001b[38;5;241m.\u001b[39msplit(\u001b[38;5;124mr\u001b[39m\u001b[38;5;124m'\u001b[39m\u001b[38;5;124m(?<=[.!?])\u001b[39m\u001b[38;5;124m\\\u001b[39m\u001b[38;5;124ms+\u001b[39m\u001b[38;5;124m'\u001b[39m, text) \u001b[38;5;28;01mif\u001b[39;00m sentence\u001b[38;5;241m.\u001b[39mstrip()]\n",
      "\u001b[1;31mFileNotFoundError\u001b[0m: [Errno 2] No such file or directory: 'C:\\\\Users\\\\DELL\\\\Desktop\\\\DL\\\\DL\\\\PR 5 DL\\\\Word_Predication\\\\pizza.txt'"
     ]
    }
   ],
   "source": [
    "def file_to_sentence_list(file_path):\n",
    "\twith open(file_path, 'r') as file:\n",
    "\t\ttext = file.read()\n",
    "\tsentences = [sentence.strip() for sentence in re.split(r'(?<=[.!?])\\s+', text) if sentence.strip()]\n",
    "\treturn sentences\n",
    "\n",
    "file_path = r'C:\\Users\\DELL\\Desktop\\DL\\DL\\PR 5 DL\\Word_Predication\\pizza.txt'\n",
    "text_data = file_to_sentence_list(file_path)\n",
    "\n",
    "# Tokenize the text data\n",
    "tokenizer = Tokenizer()\n",
    "tokenizer.fit_on_texts(text_data)\n",
    "total_words = len(tokenizer.word_index) + 1\n",
    "\n",
    "# Create input sequences\n",
    "input_sequences = []\n",
    "for line in text_data:\n",
    "\ttoken_list = tokenizer.texts_to_sequences([line])[0]\n",
    "\tfor i in range(1, len(token_list)):\n",
    "\t\tn_gram_sequence = token_list[:i+1]\n",
    "\t\tinput_sequences.append(n_gram_sequence)\n",
    "\n",
    "# Pad sequences and split into predictors and label\n",
    "max_sequence_len = max([len(seq) for seq in input_sequences])\n",
    "input_sequences = np.array(pad_sequences(\n",
    "\tinput_sequences, maxlen=max_sequence_len, padding='pre'))\n",
    "X, y = input_sequences[:, :-1], input_sequences[:, -1]\n",
    "\n",
    "# Convert target data to one-hot encoding\n",
    "y = tf.keras.utils.to_categorical(y, num_classes=total_words)"
   ]
  },
  {
   "cell_type": "code",
   "execution_count": null,
   "id": "d9d491b8",
   "metadata": {},
   "outputs": [],
   "source": [
    "# Define the model\n",
    "model = Sequential()\n",
    "model.add(Embedding(total_words, 10,input_length=max_sequence_len-1))\n",
    "model.add(LSTM(128))\n",
    "model.add(Dense(total_words, activation='softmax'))\n",
    "model.compile(loss='categorical_crossentropy',optimizer='adam', metrics=['accuracy']) \n",
    "# Train the model\n",
    "model.fit(X, y, epochs=150, verbose=1)"
   ]
  },
  {
   "cell_type": "code",
   "execution_count": null,
   "id": "dc301bce",
   "metadata": {},
   "outputs": [],
   "source": [
    "# Generate next word predictions\n",
    "seed_text = \"Pizza\"\n",
    "next_words = 5\n",
    "\n",
    "for _ in range(next_words):\n",
    "\ttoken_list = tokenizer.texts_to_sequences([seed_text])[0]\n",
    "\ttoken_list = pad_sequences(\n",
    "\t\t[token_list], maxlen=max_sequence_len-1, padding='pre')\n",
    "\tpredicted_probs = model.predict(token_list)\n",
    "\tpredicted_word = tokenizer.index_word[np.argmax(predicted_probs)]\n",
    "\tseed_text += \" \" + predicted_word\n",
    "\n",
    "print(\"Next predicted words:\", seed_text)\n",
    "\n"
   ]
  },
  {
   "cell_type": "code",
   "execution_count": null,
   "id": "49b2da9a",
   "metadata": {},
   "outputs": [],
   "source": []
  }
 ],
 "metadata": {
  "kernelspec": {
   "display_name": "Python 3 (ipykernel)",
   "language": "python",
   "name": "python3"
  },
  "language_info": {
   "codemirror_mode": {
    "name": "ipython",
    "version": 3
   },
   "file_extension": ".py",
   "mimetype": "text/x-python",
   "name": "python",
   "nbconvert_exporter": "python",
   "pygments_lexer": "ipython3",
   "version": "3.9.12"
  }
 },
 "nbformat": 4,
 "nbformat_minor": 5
}
