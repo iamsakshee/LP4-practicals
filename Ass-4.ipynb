{
 "cells": [
  {
   "cell_type": "code",
   "execution_count": null,
   "id": "f3ba0002",
   "metadata": {},
   "outputs": [],
   "source": [
    "import pandas as pd\n",
    "import numpy as np\n",
    "import tensorflow as tf\n",
    "import matplotlib.pyplot as plt\n",
    "import seaborn as sns\n",
    "from sklearn.model_selection import train_test_split\n",
    "from sklearn.preprocessing import StandardScaler\n",
    "from sklearn.metrics import confusion_matrix, recall_score, accuracy_score, precision_score\n",
    "# TEST_PCT = 0.3\n",
    "LABELS = [\"Normal\",\"Fraud\"]"
   ]
  },
  {
   "cell_type": "code",
   "execution_count": null,
   "id": "e2a1e75a",
   "metadata": {},
   "outputs": [],
   "source": [
    "dataset = pd.read_csv(r\"C:\\Users\\DELL\\Desktop\\DL\\DL\\PR 4 DL\\creditcard.csv\") \n",
    "print(\"Any nulls in the dataset \",dataset.isnull().values.any() )\n",
    "print(\"Label values \",dataset.Class.unique())\n",
    "print(pd.value_counts(dataset['Class'], sort = True) )\n",
    "count_classes = pd.value_counts(dataset['Class'], sort = True)"
   ]
  },
  {
   "cell_type": "code",
   "execution_count": null,
   "id": "a067eb95",
   "metadata": {},
   "outputs": [],
   "source": [
    "raw_data = dataset.values\n",
    "labels = raw_data[:, -1]\n",
    "data = raw_data[:, 0:-1]\n",
    "train_data, test_data, train_labels, test_labels = train_test_split(data, labels, test_size=0.2)"
   ]
  },
  {
   "cell_type": "code",
   "execution_count": null,
   "id": "aa75b516",
   "metadata": {},
   "outputs": [],
   "source": [
    "#Normalize the data to have a value between 0 and 1\n",
    "min_val = tf.reduce_min(train_data)\n",
    "max_val = tf.reduce_max(train_data)\n",
    "train_data = (train_data - min_val) / (max_val - min_val)\n",
    "test_data = (test_data - min_val) / (max_val - min_val)\n",
    "train_data = tf.cast(train_data, tf.float32)\n",
    "test_data = tf.cast(test_data, tf.float32)"
   ]
  },
  {
   "cell_type": "code",
   "execution_count": null,
   "id": "11cc2c53",
   "metadata": {},
   "outputs": [],
   "source": [
    "# Use only normal transactions to train the Autoencoder.\n",
    "train_labels = train_labels.astype(bool)\n",
    "test_labels = test_labels.astype(bool)\n",
    "#creating normal and fraud datasets\n",
    "normal_train_data = train_data[~train_labels]\n",
    "normal_test_data = test_data[~test_labels]\n",
    "fraud_train_data = train_data[train_labels]\n",
    "fraud_test_data = test_data[test_labels]\n",
    "print(\" No. of records in Fraud Train Data=\",len(fraud_train_data))\n",
    "print(\" No. of records in Normal Train data=\",len(normal_train_data))\n",
    "print(\" No. of records in Fraud Test Data=\",len(fraud_test_data))\n",
    "print(\" No. of records in Normal Test data=\",len(normal_test_data))"
   ]
  },
  {
   "cell_type": "code",
   "execution_count": null,
   "id": "53ccb3f0",
   "metadata": {},
   "outputs": [],
   "source": [
    "# Create the Autoencoder\n",
    "input_layer = tf.keras.layers.Input(shape=(30, ))\n",
    "\n",
    "# Encoder\n",
    "encoder = tf.keras.layers.Dense(units=14, activation=\"tanh\", activity_regularizer=tf.keras.regularizers.l2(0.02))(input_layer)\n",
    "encoder = tf.keras.layers.Dropout(0.2)(encoder)\n",
    "encoder = tf.keras.layers.Dense(units=7, activation='relu')(encoder)\n",
    "encoder = tf.keras.layers.Dense(units=4, activation=tf.nn.leaky_relu)(encoder)\n",
    "\n",
    "# Decoder\n",
    "decoder = tf.keras.layers.Dense(units=7, activation='relu')(encoder)\n",
    "decoder = tf.keras.layers.Dropout(0.2)(decoder)\n",
    "decoder = tf.keras.layers.Dense(units=14, activation='relu')(decoder)\n",
    "decoder = tf.keras.layers.Dense(units=30, activation='tanh')(decoder)\n",
    "\n",
    "# Autoencoder\n",
    "autoencoder = tf.keras.Model(inputs=input_layer, outputs=decoder)\n",
    "autoencoder.summary()\n"
   ]
  },
  {
   "cell_type": "code",
   "execution_count": null,
   "id": "909911e0",
   "metadata": {},
   "outputs": [],
   "source": [
    "# Define the callbacks for checkpoints and early stopping\n",
    "\n",
    "cp = tf.keras.callbacks.ModelCheckpoint(filepath=\"autoencoder_fraud.h5\",mode='min', monitor='val_loss', verbose=2,\n",
    "                                                                                        save_best_only=True)\n",
    "early_stop = tf.keras.callbacks.EarlyStopping(monitor='val_loss',min_delta=0.0001,patience=10,verbose=1, mode='min',\n",
    "                                                                                         restore_best_weights=True)\n"
   ]
  },
  {
   "cell_type": "code",
   "execution_count": null,
   "id": "daf0f38a",
   "metadata": {},
   "outputs": [],
   "source": [
    "autoencoder.compile(metrics=['accuracy'],loss='mean_squared_error',optimizer='adam')"
   ]
  },
  {
   "cell_type": "code",
   "execution_count": null,
   "id": "3071fc05",
   "metadata": {},
   "outputs": [],
   "source": [
    "history = autoencoder.fit(normal_train_data, normal_train_data,epochs=50,batch_size=64,shuffle=True,\n",
    "                            validation_data=(test_data, test_data),verbose=1,callbacks=[cp, early_stop]).history"
   ]
  },
  {
   "cell_type": "code",
   "execution_count": null,
   "id": "08f5f3b1",
   "metadata": {},
   "outputs": [],
   "source": [
    "# Detect Anomalies on test data\n",
    "test_x_predictions = autoencoder.predict(test_data)\n",
    "mse = np.mean(np.power(test_data - test_x_predictions, 2), axis=1)\n",
    "error_df = pd.DataFrame({'Reconstruction_error': mse,'True_class': test_labels})"
   ]
  },
  {
   "cell_type": "code",
   "execution_count": null,
   "id": "f4fd7079",
   "metadata": {},
   "outputs": [],
   "source": [
    "threshold_fixed =52\n",
    "pred_y = [1 if e > threshold_fixed else 0 for e in error_df.Reconstruction_error.values]\n",
    "error_df['pred'] =pred_y\n",
    "conf_matrix = confusion_matrix(error_df.True_class, pred_y)\n",
    "print(conf_matrix)\n"
   ]
  }
 ],
 "metadata": {
  "kernelspec": {
   "display_name": "Python 3 (ipykernel)",
   "language": "python",
   "name": "python3"
  },
  "language_info": {
   "codemirror_mode": {
    "name": "ipython",
    "version": 3
   },
   "file_extension": ".py",
   "mimetype": "text/x-python",
   "name": "python",
   "nbconvert_exporter": "python",
   "pygments_lexer": "ipython3",
   "version": "3.11.4"
  }
 },
 "nbformat": 4,
 "nbformat_minor": 5
}
