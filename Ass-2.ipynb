{
 "cells": [
  {
   "cell_type": "code",
   "execution_count": null,
   "id": "b122cd42",
   "metadata": {},
   "outputs": [],
   "source": [
    "import tensorflow as tf\n",
    "from tensorflow import keras\n",
    "import matplotlib.pyplot as plt\n",
    "import numpy as np\n",
    "from tensorflow.keras.optimizers import SGD"
   ]
  },
  {
   "cell_type": "code",
   "execution_count": null,
   "id": "fcb30e96",
   "metadata": {},
   "outputs": [],
   "source": [
    "data=tf.keras.datasets.mnist\n",
    "(x_train,y_train),(x_test,y_test)=data.load_data()\n",
    "x_train,x_test =x_train/255,x_test/255      # Covert all values between 0 to 1 \n",
    "print(x_test.shape)\n",
    "print(x_train.shape)"
   ]
  },
  {
   "cell_type": "code",
   "execution_count": null,
   "id": "249d377f",
   "metadata": {},
   "outputs": [],
   "source": [
    "model=tf.keras.models.Sequential([\n",
    "tf.keras.layers.Flatten(input_shape=(28,28)),      # covert 2D into  1D  \n",
    "tf.keras.layers.Dense(150,activation='relu'),      #  Dense Means Fully connected Network in Hiden Layer\n",
    "tf.keras.layers.Dense(10,activation='softmax')     # classifying into 10 classes output have TEN neuron\n",
    "])"
   ]
  },
  {
   "cell_type": "code",
   "execution_count": null,
   "id": "05806235",
   "metadata": {},
   "outputs": [],
   "source": [
    "sgd=SGD(0.02)    # is learning rate  0.02            #adam\n",
    "model.compile(optimizer='sgd', loss='sparse_categorical_crossentropy', metrics=['accuracy'])\n",
    "history=model.fit(x_train, y_train,validation_data=(x_test,y_test),epochs=5) # Train the model"
   ]
  },
  {
   "cell_type": "code",
   "execution_count": null,
   "id": "d6c3f02f",
   "metadata": {},
   "outputs": [],
   "source": [
    "test_loss,test_acc=model.evaluate(x_test,y_test)\n",
    "plt.imshow(x_test[4])\n",
    "prediction=model.predict(x_test)   #predict the data   \n",
    "print(np.argmax(prediction[4]))   # print data depend on max probaiblites "
   ]
  }
 ],
 "metadata": {
  "kernelspec": {
   "display_name": "Python 3 (ipykernel)",
   "language": "python",
   "name": "python3"
  },
  "language_info": {
   "codemirror_mode": {
    "name": "ipython",
    "version": 3
   },
   "file_extension": ".py",
   "mimetype": "text/x-python",
   "name": "python",
   "nbconvert_exporter": "python",
   "pygments_lexer": "ipython3",
   "version": "3.11.4"
  }
 },
 "nbformat": 4,
 "nbformat_minor": 5
}
