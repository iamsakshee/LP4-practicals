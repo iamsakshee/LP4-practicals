{
 "cells": [
  {
   "cell_type": "code",
   "execution_count": 19,
   "id": "ab486069",
   "metadata": {},
   "outputs": [],
   "source": [
    "# https://www.scaler.com/topics/nlp/cbow/"
   ]
  },
  {
   "cell_type": "code",
   "execution_count": 1,
   "id": "3e853a4c",
   "metadata": {},
   "outputs": [
    {
     "name": "stdout",
     "output_type": "stream",
     "text": [
      "Requirement already satisfied: gensim in c:\\users\\saksh\\anaconda3\\lib\\site-packages (4.1.2)Note: you may need to restart the kernel to use updated packages.\n"
     ]
    },
    {
     "name": "stderr",
     "output_type": "stream",
     "text": [
      "ERROR: Could not install packages due to an OSError: [WinError 5] Access is denied: 'C:\\\\Users\\\\saksh\\\\anaconda3\\\\Lib\\\\site-packages\\\\~umpy.libs\\\\libopenblas64__v0.3.23-293-gc2f4bdbb-gcc_10_3_0-2bde3a66a51006b2b53eb373ff767a3f.dll'\n",
      "Consider using the `--user` option or check the permissions.\n",
      "\n"
     ]
    },
    {
     "name": "stdout",
     "output_type": "stream",
     "text": [
      "\n",
      "Requirement already satisfied: smart-open>=1.8.1 in c:\\users\\saksh\\anaconda3\\lib\\site-packages (from gensim) (5.1.0)\n",
      "Requirement already satisfied: scipy>=0.18.1 in c:\\users\\saksh\\anaconda3\\lib\\site-packages (from gensim) (1.7.3)\n",
      "Requirement already satisfied: numpy>=1.17.0 in c:\\users\\saksh\\anaconda3\\lib\\site-packages (from gensim) (1.26.2)\n",
      "Collecting numpy>=1.17.0\n",
      "  Downloading numpy-1.22.4-cp39-cp39-win_amd64.whl (14.7 MB)\n",
      "Installing collected packages: numpy\n",
      "  Attempting uninstall: numpy\n",
      "    Found existing installation: numpy 1.26.2\n",
      "    Uninstalling numpy-1.26.2:\n",
      "      Successfully uninstalled numpy-1.26.2\n"
     ]
    }
   ],
   "source": [
    "pip install gensim"
   ]
  },
  {
   "cell_type": "code",
   "execution_count": 21,
   "id": "bb0d3a2e",
   "metadata": {},
   "outputs": [],
   "source": [
    "#pip install gensim==3.8.3"
   ]
  },
  {
   "cell_type": "code",
   "execution_count": 2,
   "id": "2362fcaa",
   "metadata": {},
   "outputs": [],
   "source": [
    "from gensim.models import Word2Vec\n",
    "import nltk\n",
    "from nltk.corpus import brown"
   ]
  },
  {
   "cell_type": "code",
   "execution_count": 3,
   "id": "a6d5008c",
   "metadata": {},
   "outputs": [
    {
     "name": "stderr",
     "output_type": "stream",
     "text": [
      "[nltk_data] Downloading package brown to\n",
      "[nltk_data]     C:\\Users\\saksh\\AppData\\Roaming\\nltk_data...\n",
      "[nltk_data]   Unzipping corpora\\brown.zip.\n"
     ]
    }
   ],
   "source": [
    "nltk.download('brown')  #We download the brown corpus in this section and use it as the sample data.\n",
    "data = brown.sents()  # Use the Brown corpus from NLTK as sample data\n"
   ]
  },
  {
   "cell_type": "code",
   "execution_count": 5,
   "id": "756b29b3",
   "metadata": {},
   "outputs": [],
   "source": [
    "model = Word2Vec(data, min_count=1,  window=5)   # CBOW model using the gensim library's Word2Vec\n"
   ]
  },
  {
   "cell_type": "code",
   "execution_count": 6,
   "id": "43a6dd1b",
   "metadata": {},
   "outputs": [
    {
     "data": {
      "text/plain": [
       "(4271774, 5805960)"
      ]
     },
     "execution_count": 6,
     "metadata": {},
     "output_type": "execute_result"
    }
   ],
   "source": [
    "model.train(data, total_examples=len(data), epochs=5) # Model is trained on the data with a specified number of epochs"
   ]
  },
  {
   "cell_type": "code",
   "execution_count": 8,
   "id": "5c23a71e",
   "metadata": {},
   "outputs": [
    {
     "name": "stdout",
     "output_type": "stream",
     "text": [
      "[['The', 'Fulton', 'County', 'Grand', 'Jury', 'said', 'Friday', 'an', 'investigation', 'of', \"Atlanta's\", 'recent', 'primary', 'election', 'produced', '``', 'no', 'evidence', \"''\", 'that', 'any', 'irregularities', 'took', 'place', '.'], ['The', 'jury', 'further', 'said', 'in', 'term-end', 'presentments', 'that', 'the', 'City', 'Executive', 'Committee', ',', 'which', 'had', 'over-all', 'charge', 'of', 'the', 'election', ',', '``', 'deserves', 'the', 'praise', 'and', 'thanks', 'of', 'the', 'City', 'of', 'Atlanta', \"''\", 'for', 'the', 'manner', 'in', 'which', 'the', 'election', 'was', 'conducted', '.'], ...]\n"
     ]
    }
   ],
   "source": [
    "print(data)"
   ]
  },
  {
   "cell_type": "code",
   "execution_count": 9,
   "id": "261814eb",
   "metadata": {},
   "outputs": [],
   "source": [
    "word_vectors = model.wv  #model in this section learns the embeddings.\n"
   ]
  },
  {
   "cell_type": "code",
   "execution_count": 10,
   "id": "04aa3002",
   "metadata": {},
   "outputs": [
    {
     "name": "stdout",
     "output_type": "stream",
     "text": [
      "Similarity between 'woman' and 'man': 0.8806413412094116\n"
     ]
    }
   ],
   "source": [
    "#we calculate the cosine similarity between two words, 'woman' and 'man', \n",
    "# This measures how similar the two words are in meaning.\n",
    "\n",
    "similarity = word_vectors.similarity('woman', 'man')\n",
    "print(f\"Similarity between 'woman' and 'man': {similarity}\") \n"
   ]
  },
  {
   "cell_type": "code",
   "execution_count": null,
   "id": "5ed79d0c",
   "metadata": {},
   "outputs": [],
   "source": []
  }
 ],
 "metadata": {
  "kernelspec": {
   "display_name": "Python 3 (ipykernel)",
   "language": "python",
   "name": "python3"
  },
  "language_info": {
   "codemirror_mode": {
    "name": "ipython",
    "version": 3
   },
   "file_extension": ".py",
   "mimetype": "text/x-python",
   "name": "python",
   "nbconvert_exporter": "python",
   "pygments_lexer": "ipython3",
   "version": "3.9.12"
  }
 },
 "nbformat": 4,
 "nbformat_minor": 5
}
